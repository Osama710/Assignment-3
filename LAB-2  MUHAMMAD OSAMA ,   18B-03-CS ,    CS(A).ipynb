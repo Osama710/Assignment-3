{
 "cells": [
  {
   "cell_type": "markdown",
   "metadata": {},
   "source": [
    "# Programming Exercise"
   ]
  },
  {
   "cell_type": "markdown",
   "metadata": {},
   "source": [
    "# Q.1"
   ]
  },
  {
   "cell_type": "code",
   "execution_count": 1,
   "metadata": {},
   "outputs": [
    {
     "name": "stdout",
     "output_type": "stream",
     "text": [
      "5\n"
     ]
    }
   ],
   "source": [
    "from datetime import date\n",
    "f_date = date(2018, 9, 12)\n",
    "l_date = date(2018, 9, 7)\n",
    "delta = f_date - l_date\n",
    "print(delta.days)"
   ]
  },
  {
   "cell_type": "markdown",
   "metadata": {},
   "source": [
    "# Q.2"
   ]
  },
  {
   "cell_type": "code",
   "execution_count": 2,
   "metadata": {},
   "outputs": [
    {
     "name": "stdout",
     "output_type": "stream",
     "text": [
      "15.416930966675087\n"
     ]
    }
   ],
   "source": [
    "radians = (22 / 7) * (75 / 180)\n",
    "import math\n",
    "maths2 = math.sin(1.30)\n",
    "height = 16 * maths2\n",
    "print(height)"
   ]
  },
  {
   "cell_type": "code",
   "execution_count": 3,
   "metadata": {},
   "outputs": [
    {
     "name": "stdout",
     "output_type": "stream",
     "text": [
      "0.0\n"
     ]
    }
   ],
   "source": [
    "radians = (22 / 7) * (0 / 180)\n",
    "import math\n",
    "maths3 = math.sin(0)\n",
    "height = 20 * maths3\n",
    "print(height)"
   ]
  },
  {
   "cell_type": "code",
   "execution_count": 4,
   "metadata": {},
   "outputs": [
    {
     "name": "stdout",
     "output_type": "stream",
     "text": [
      "16.963804346528782\n"
     ]
    }
   ],
   "source": [
    "radians = (22 / 7) * (45 / 180)\n",
    "import math\n",
    "maths4 = math.sin(0.785)\n",
    "height = 24 * maths4\n",
    "print(height)"
   ]
  },
  {
   "cell_type": "code",
   "execution_count": 5,
   "metadata": {},
   "outputs": [
    {
     "name": "stdout",
     "output_type": "stream",
     "text": [
      "23.60881955547064\n"
     ]
    }
   ],
   "source": [
    "radians = (22 / 7) * (80 / 180)\n",
    "import math\n",
    "maths5 = math.sin(1.39)\n",
    "height = 24 * maths5\n",
    "print(height)"
   ]
  },
  {
   "cell_type": "markdown",
   "metadata": {},
   "source": [
    "# Q.3"
   ]
  },
  {
   "cell_type": "code",
   "execution_count": 6,
   "metadata": {},
   "outputs": [
    {
     "name": "stdout",
     "output_type": "stream",
     "text": [
      "['18', '26', '34']\n"
     ]
    }
   ],
   "source": [
    "lst = ['18', '26', '34']\n",
    "print(lst)"
   ]
  },
  {
   "cell_type": "code",
   "execution_count": 7,
   "metadata": {},
   "outputs": [
    {
     "name": "stdout",
     "output_type": "stream",
     "text": [
      "1.0\n"
     ]
    }
   ],
   "source": [
    "print(len(lst) / 3)"
   ]
  },
  {
   "cell_type": "code",
   "execution_count": 8,
   "metadata": {},
   "outputs": [
    {
     "name": "stdout",
     "output_type": "stream",
     "text": [
      "26\n"
     ]
    }
   ],
   "source": [
    "print(lst[int(len(lst) / 3)])"
   ]
  },
  {
   "cell_type": "code",
   "execution_count": 9,
   "metadata": {},
   "outputs": [
    {
     "name": "stdout",
     "output_type": "stream",
     "text": [
      "['34', '26', '18']\n"
     ]
    }
   ],
   "source": [
    "print(sorted(lst, reverse = True))"
   ]
  },
  {
   "cell_type": "code",
   "execution_count": 10,
   "metadata": {},
   "outputs": [
    {
     "name": "stdout",
     "output_type": "stream",
     "text": [
      "['26', '34', 18]\n"
     ]
    }
   ],
   "source": [
    "lst.append(18)\n",
    "lst.pop(0)\n",
    "print(lst)"
   ]
  },
  {
   "cell_type": "markdown",
   "metadata": {},
   "source": [
    "# Q.4"
   ]
  },
  {
   "cell_type": "code",
   "execution_count": 11,
   "metadata": {},
   "outputs": [
    {
     "name": "stdout",
     "output_type": "stream",
     "text": [
      "['Jan', 'Feb', 'Mar', 'May']\n",
      "('Jan', 'Feb', 'Mar', 'May')\n"
     ]
    }
   ],
   "source": [
    "monthsL = ['Jan', 'Feb', 'Mar', 'May']\n",
    "monthsT = ('Jan', 'Feb', 'Mar', 'May')\n",
    "print(monthsL)\n",
    "print(monthsT)"
   ]
  },
  {
   "cell_type": "code",
   "execution_count": 12,
   "metadata": {},
   "outputs": [
    {
     "name": "stdout",
     "output_type": "stream",
     "text": [
      "['Jan', 'Feb', 'Mar', 'Apr', 'May']\n",
      "['Jan', 'Feb', 'Mar', 'Apr', 'May']\n"
     ]
    }
   ],
   "source": [
    "monthsL = ['Jan', 'Feb', 'Mar', 'May']\n",
    "monthsT = ('Jan', 'Feb', 'Mar', 'May')\n",
    "t1 = list(monthsT)\n",
    "t1[3:3] = ['Apr']\n",
    "monthsL[3:3] = ['Apr']\n",
    "print(monthsL)\n",
    "print(t1)"
   ]
  },
  {
   "cell_type": "code",
   "execution_count": 13,
   "metadata": {},
   "outputs": [
    {
     "name": "stdout",
     "output_type": "stream",
     "text": [
      "['Jan', 'Feb', 'Mar', 'May', 'Jun']\n",
      "['Jan', 'Feb', 'Mar', 'May', 'Jun']\n"
     ]
    }
   ],
   "source": [
    "monthsL = ['Jan', 'Feb', 'Mar', 'May']\n",
    "monthsT = ('Jan', 'Feb', 'Mar', 'May')\n",
    "t1 = list(monthsT)\n",
    "t1.append('Jun')\n",
    "monthsL.append('Jun')\n",
    "print(monthsL)\n",
    "print(t1)"
   ]
  },
  {
   "cell_type": "code",
   "execution_count": 14,
   "metadata": {},
   "outputs": [
    {
     "name": "stdout",
     "output_type": "stream",
     "text": [
      "['Jan', 'Feb', 'Mar']\n",
      "['Jan', 'Feb', 'Mar']\n"
     ]
    }
   ],
   "source": [
    "monthsL = ['Jan', 'Feb', 'Mar', 'May']\n",
    "monthsT = ('Jan', 'Feb', 'Mar', 'May')\n",
    "monthsL.pop()\n",
    "t1 = list(monthsT)\n",
    "t1.pop()\n",
    "print(t1)\n",
    "print(monthsL)"
   ]
  },
  {
   "cell_type": "code",
   "execution_count": 15,
   "metadata": {},
   "outputs": [
    {
     "name": "stdout",
     "output_type": "stream",
     "text": [
      "['Jan', 'Mar', 'May']\n",
      "['Jan', 'Mar', 'May']\n"
     ]
    }
   ],
   "source": [
    "monthsL = ['Jan', 'Feb', 'Mar', 'May']\n",
    "monthsT = ('Jan', 'Feb', 'Mar', 'May')\n",
    "monthsL.pop(1)\n",
    "t1 = list(monthsT)\n",
    "t1.pop(1)\n",
    "print(monthsL)\n",
    "print(t1)"
   ]
  },
  {
   "cell_type": "code",
   "execution_count": 16,
   "metadata": {},
   "outputs": [
    {
     "name": "stdout",
     "output_type": "stream",
     "text": [
      "['May', 'Mar', 'Feb', 'Jan']\n",
      "['May', 'Mar', 'Feb', 'Jan']\n"
     ]
    }
   ],
   "source": [
    "monthsL = ['Jan', 'Feb', 'Mar', 'May']\n",
    "monthsT = ('Jan', 'Feb', 'Mar', 'May')\n",
    "monthsL.reverse()\n",
    "t1 = list(monthsT)\n",
    "t1.reverse()\n",
    "print(monthsL)\n",
    "print(t1)"
   ]
  },
  {
   "cell_type": "code",
   "execution_count": 17,
   "metadata": {},
   "outputs": [
    {
     "name": "stdout",
     "output_type": "stream",
     "text": [
      "['Feb', 'Jan', 'Mar', 'May']\n",
      "['Feb', 'Jan', 'Mar', 'May']\n"
     ]
    }
   ],
   "source": [
    "monthsL = ['Jan', 'Feb', 'Mar', 'May']\n",
    "monthsT = ('Jan', 'Feb', 'Mar', 'May')\n",
    "monthsL.sort()\n",
    "t1 = list(monthsT)\n",
    "t1.sort()\n",
    "print(monthsL)\n",
    "print(t1)"
   ]
  },
  {
   "cell_type": "markdown",
   "metadata": {},
   "source": [
    "# Q.5 "
   ]
  },
  {
   "cell_type": "code",
   "execution_count": 18,
   "metadata": {},
   "outputs": [
    {
     "name": "stdout",
     "output_type": "stream",
     "text": [
      "1\n"
     ]
    }
   ],
   "source": [
    "word1 = (\"anachronistically\")\n",
    "word2 = (\"counterintuitive\")\n",
    "difference = len(word1) - len(word2)\n",
    "print(difference)"
   ]
  },
  {
   "cell_type": "code",
   "execution_count": 19,
   "metadata": {},
   "outputs": [
    {
     "name": "stdout",
     "output_type": "stream",
     "text": [
      "['misinterpretation', 'misrepresentation']\n"
     ]
    }
   ],
   "source": [
    "word3 = [\"misinterpretation\",\"misrepresentation\"]\n",
    "word3.sort()\n",
    "print(word3)"
   ]
  },
  {
   "cell_type": "code",
   "execution_count": 20,
   "metadata": {},
   "outputs": [
    {
     "data": {
      "text/plain": [
       "False"
      ]
     },
     "execution_count": 20,
     "metadata": {},
     "output_type": "execute_result"
    }
   ],
   "source": [
    "word4 = \"floccinaucinihilipilification\"\n",
    ">>> 'e' in word4"
   ]
  },
  {
   "cell_type": "code",
   "execution_count": 21,
   "metadata": {},
   "outputs": [
    {
     "name": "stdout",
     "output_type": "stream",
     "text": [
      "17\n",
      "17\n"
     ]
    }
   ],
   "source": [
    "word5 = (\"counterrevolution\")\n",
    "len(word5)\n",
    "print(len(word5))\n",
    "word6 = (\"counter\")\n",
    "word7 = (\"resolution\")\n",
    "sum = len(word6) + len(word7)\n",
    "print(sum)"
   ]
  },
  {
   "cell_type": "markdown",
   "metadata": {},
   "source": [
    "# Q.6 "
   ]
  },
  {
   "cell_type": "code",
   "execution_count": 22,
   "metadata": {},
   "outputs": [
    {
     "name": "stdout",
     "output_type": "stream",
     "text": [
      "6\n",
      "7\n"
     ]
    }
   ],
   "source": [
    "a = 6\n",
    "b = 7\n",
    "print(a)\n",
    "print(b)"
   ]
  },
  {
   "cell_type": "code",
   "execution_count": 23,
   "metadata": {},
   "outputs": [
    {
     "name": "stdout",
     "output_type": "stream",
     "text": [
      "6.5\n"
     ]
    }
   ],
   "source": [
    "c = (a + b) / 2\n",
    "print(c)"
   ]
  },
  {
   "cell_type": "code",
   "execution_count": 24,
   "metadata": {},
   "outputs": [
    {
     "name": "stdout",
     "output_type": "stream",
     "text": [
      "('paper', 'staples', 'pencils')\n"
     ]
    }
   ],
   "source": [
    "x = ('paper', 'staples', 'pencils')\n",
    "print(x)"
   ]
  },
  {
   "cell_type": "code",
   "execution_count": 25,
   "metadata": {},
   "outputs": [
    {
     "name": "stdout",
     "output_type": "stream",
     "text": [
      "John\n",
      "Fitzgerald\n",
      "Kennedy\n"
     ]
    }
   ],
   "source": [
    "first = ('John')\n",
    "middle = ('Fitzgerald')\n",
    "last = ('Kennedy')\n",
    "print(first)\n",
    "print(middle)\n",
    "print(last)\n"
   ]
  },
  {
   "cell_type": "code",
   "execution_count": 26,
   "metadata": {},
   "outputs": [
    {
     "name": "stdout",
     "output_type": "stream",
     "text": [
      "John Fitzgerald Kennedy\n"
     ]
    }
   ],
   "source": [
    "fullname = (first+ ' ' +middle+ ' ' +last)\n",
    "print(fullname)"
   ]
  },
  {
   "cell_type": "markdown",
   "metadata": {},
   "source": [
    "# Q.7"
   ]
  },
  {
   "cell_type": "code",
   "execution_count": 27,
   "metadata": {},
   "outputs": [
    {
     "name": "stdout",
     "output_type": "stream",
     "text": [
      "enter the value for x co-ordinate: 0\n",
      "enter the value for y co-ordinate: 0\n",
      "0.0\n",
      "hit\n"
     ]
    }
   ],
   "source": [
    "x = int(input(\"enter the value for x co-ordinate: \"))\n",
    "y = int(input(\"enter the value for y co-ordinate: \"))\n",
    "radius = 10\n",
    "import math\n",
    "dist = math.sqrt(x * x + y * y)\n",
    "print(dist)\n",
    "if dist<radius:\n",
    "    print(\"hit\")\n",
    "else:\n",
    "    print(\"miss\")"
   ]
  },
  {
   "cell_type": "code",
   "execution_count": 28,
   "metadata": {},
   "outputs": [
    {
     "name": "stdout",
     "output_type": "stream",
     "text": [
      "enter the value for x co-ordinate: 10\n",
      "enter the value for y co-ordinate: 10\n",
      "14.142135623730951\n",
      "miss\n"
     ]
    }
   ],
   "source": [
    "x = int(input(\"enter the value for x co-ordinate: \"))\n",
    "y = int(input(\"enter the value for y co-ordinate: \"))\n",
    "radius = 10\n",
    "import math\n",
    "dist = math.sqrt(x * x + y * y)\n",
    "print(dist)\n",
    "if dist<radius:\n",
    "    print(\"hit\")\n",
    "else:\n",
    "    print(\"miss\")"
   ]
  },
  {
   "cell_type": "code",
   "execution_count": 29,
   "metadata": {},
   "outputs": [
    {
     "name": "stdout",
     "output_type": "stream",
     "text": [
      "enter the value for x co-ordinate: 6\n",
      "enter the value for y co-ordinate: 6\n",
      "8.48528137423857\n",
      "hit\n"
     ]
    }
   ],
   "source": [
    "x = int(input(\"enter the value for7\n",
    "              x co-ordinate: \"))\n",
    "y = int(input(\"enter the value for y co-ordinate: \"))\n",
    "radius = 10\n",
    "import math\n",
    "dist = math.sqrt(x * x + y * y)\n",
    "print(dist)\n",
    "if dist<radius:\n",
    "    print(\"hit\")\n",
    "else:\n",
    "    print(\"miss\")"
   ]
  },
  {
   "cell_type": "code",
   "execution_count": 30,
   "metadata": {},
   "outputs": [
    {
     "name": "stdout",
     "output_type": "stream",
     "text": [
      "enter the value for x co-ordinate: 7\n",
      "enter the value for y co-ordinate: 8\n",
      "10.63014581273465\n",
      "miss\n"
     ]
    }
   ],
   "source": [
    "x = int(input(\"enter the value for x co-ordinate: \"))\n",
    "y = int(input(\"enter the value for y co-ordinate: \"))\n",
    "radius = 10\n",
    "import math\n",
    "dist = math.sqrt(x * x + y * y)\n",
    "print(dist)\n",
    "if dist<radius:\n",
    "    print(\"hit\")\n",
    "else:\n",
    "    print(\"miss\")"
   ]
  },
  {
   "cell_type": "code",
   "execution_count": null,
   "metadata": {},
   "outputs": [],
   "source": []
  }
 ],
 "metadata": {
  "kernelspec": {
   "display_name": "Python 3",
   "language": "python",
   "name": "python3"
  },
  "language_info": {
   "codemirror_mode": {
    "name": "ipython",
    "version": 3
   },
   "file_extension": ".py",
   "mimetype": "text/x-python",
   "name": "python",
   "nbconvert_exporter": "python",
   "pygments_lexer": "ipython3",
   "version": "3.7.0"
  }
 },
 "nbformat": 4,
 "nbformat_minor": 2
}
