{
 "cells": [
  {
   "cell_type": "code",
   "execution_count": 1,
   "metadata": {},
   "outputs": [
    {
     "name": "stdout",
     "output_type": "stream",
     "text": [
      "enter the temperature in centigrade: 32\n",
      "temperature in farenheit is:  89.6\n"
     ]
    }
   ],
   "source": [
    "centigrade = int(input(\"enter the temperature in centigrade: \"))\n",
    "farenheit = (centigrade*1.8) + 32\n",
    "print(\"temperature in farenheit is: \",farenheit)"
   ]
  },
  {
   "cell_type": "code",
   "execution_count": 2,
   "metadata": {},
   "outputs": [
    {
     "name": "stdout",
     "output_type": "stream",
     "text": [
      "enter the temperature in farenheit: 92\n",
      "temperature in centigrade is:  33.333333333333336\n"
     ]
    }
   ],
   "source": [
    "farenheit = int(input(\"enter the temperature in farenheit: \"))\n",
    "centigrade = (farenheit - 32) / 1.8\n",
    "print(\"temperature in centigrade is: \",centigrade)"
   ]
  },
  {
   "cell_type": "code",
   "execution_count": 3,
   "metadata": {},
   "outputs": [
    {
     "name": "stdout",
     "output_type": "stream",
     "text": [
      "enter the length of rectangle: 9\n",
      "enter the breadth of rectangle: 7\n",
      "area of rectangle is: 63.00\n"
     ]
    }
   ],
   "source": [
    "length = float(input(\"enter the length of rectangle: \"))\n",
    "breadth = float(input(\"enter the breadth of rectangle: \"))\n",
    "area = length*breadth\n",
    "print(\"area of rectangle is: %.2f\" %area)"
   ]
  },
  {
   "cell_type": "code",
   "execution_count": 4,
   "metadata": {},
   "outputs": [
    {
     "name": "stdout",
     "output_type": "stream",
     "text": [
      "input the radius of sphere: 7\n",
      "the volume of sphere is: 1436.76\n"
     ]
    }
   ],
   "source": [
    "from math import pi\n",
    "r = float(input(\"input the radius of sphere: \"))\n",
    "volume = (4 / 3) * pi * r * r * r\n",
    "print(\"the volume of sphere is: %.2f\" %volume)"
   ]
  },
  {
   "cell_type": "code",
   "execution_count": 5,
   "metadata": {},
   "outputs": [
    {
     "name": "stdout",
     "output_type": "stream",
     "text": [
      "Muhammad Osama\n",
      "MUHAMMAD OSAMA\n",
      "muhammad osama\n"
     ]
    }
   ],
   "source": [
    "name = \"MuHaMmAd OsAmA\"\n",
    "print(name.title())\n",
    "print(name.upper())\n",
    "print(name.lower())"
   ]
  },
  {
   "cell_type": "code",
   "execution_count": null,
   "metadata": {},
   "outputs": [],
   "source": []
  }
 ],
 "metadata": {
  "kernelspec": {
   "display_name": "Python 3",
   "language": "python",
   "name": "python3"
  },
  "language_info": {
   "codemirror_mode": {
    "name": "ipython",
    "version": 3
   },
   "file_extension": ".py",
   "mimetype": "text/x-python",
   "name": "python",
   "nbconvert_exporter": "python",
   "pygments_lexer": "ipython3",
   "version": "3.7.0"
  }
 },
 "nbformat": 4,
 "nbformat_minor": 2
}
