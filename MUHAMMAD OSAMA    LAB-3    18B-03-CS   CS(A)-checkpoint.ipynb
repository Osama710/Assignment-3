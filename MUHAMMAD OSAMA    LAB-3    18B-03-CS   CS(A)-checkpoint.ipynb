{
 "cells": [
  {
   "cell_type": "markdown",
   "metadata": {},
   "source": [
    "# Program 1: Practicing with math operators"
   ]
  },
  {
   "cell_type": "code",
   "execution_count": 1,
   "metadata": {},
   "outputs": [
    {
     "name": "stdout",
     "output_type": "stream",
     "text": [
      "10\n",
      "22\n"
     ]
    }
   ],
   "source": [
    "# math operators in python\n",
    "# taking two values\n",
    "a = 10\n",
    "b = 22\n",
    "print(a)\n",
    "print(b)"
   ]
  },
  {
   "cell_type": "code",
   "execution_count": 2,
   "metadata": {},
   "outputs": [
    {
     "name": "stdout",
     "output_type": "stream",
     "text": [
      "Sum of a and b is:  32\n"
     ]
    }
   ],
   "source": [
    "# using sum operator\n",
    "print(\"Sum of a and b is: \", a+b)"
   ]
  },
  {
   "cell_type": "code",
   "execution_count": 3,
   "metadata": {},
   "outputs": [
    {
     "name": "stdout",
     "output_type": "stream",
     "text": [
      "Difference of a and b is:  -12\n"
     ]
    }
   ],
   "source": [
    "# using subtract operator\n",
    "print(\"Difference of a and b is: \", a-b)"
   ]
  },
  {
   "cell_type": "code",
   "execution_count": 4,
   "metadata": {},
   "outputs": [
    {
     "name": "stdout",
     "output_type": "stream",
     "text": [
      "Product of a and b is:  220\n"
     ]
    }
   ],
   "source": [
    "# using multiplication operator\n",
    "print(\"Product of a and b is: \", a*b)"
   ]
  },
  {
   "cell_type": "code",
   "execution_count": 5,
   "metadata": {},
   "outputs": [
    {
     "name": "stdout",
     "output_type": "stream",
     "text": [
      "Division of a and b is:  0.45454545454545453\n"
     ]
    }
   ],
   "source": [
    "# using division operator\n",
    "print(\"Division of a and b is: \", a/b)"
   ]
  },
  {
   "cell_type": "code",
   "execution_count": 6,
   "metadata": {},
   "outputs": [
    {
     "name": "stdout",
     "output_type": "stream",
     "text": [
      "Integer Division of a and b is:  0\n"
     ]
    }
   ],
   "source": [
    "# using integer division operator\n",
    "print(\"Integer Division of a and b is: \", a//b)"
   ]
  },
  {
   "cell_type": "code",
   "execution_count": 7,
   "metadata": {},
   "outputs": [
    {
     "name": "stdout",
     "output_type": "stream",
     "text": [
      "Power of a to b is:  10000000000000000000000\n"
     ]
    }
   ],
   "source": [
    "# using power operator\n",
    "print(\"Power of a to b is: \", a**b)"
   ]
  },
  {
   "cell_type": "code",
   "execution_count": 8,
   "metadata": {},
   "outputs": [
    {
     "name": "stdout",
     "output_type": "stream",
     "text": [
      "Remainder of a and b is:  10\n"
     ]
    }
   ],
   "source": [
    "# using modulus operator\n",
    "print(\"Remainder of a and b is: \", a%b)"
   ]
  },
  {
   "cell_type": "markdown",
   "metadata": {},
   "source": [
    "# Program 2: Write a program to use assignment operators"
   ]
  },
  {
   "cell_type": "code",
   "execution_count": 9,
   "metadata": {},
   "outputs": [
    {
     "name": "stdout",
     "output_type": "stream",
     "text": [
      "5\n"
     ]
    }
   ],
   "source": [
    "x = 5\n",
    "print(x)"
   ]
  },
  {
   "cell_type": "code",
   "execution_count": 10,
   "metadata": {},
   "outputs": [
    {
     "name": "stdout",
     "output_type": "stream",
     "text": [
      "the value of x after addition is:  8\n",
      "The value of x after subtraction is:  2\n",
      "The value of x after product is:  15\n",
      "The value of x after division is:  1.6666666666666667\n",
      "The remainder of x is:  2\n",
      "The Integer division of x is:  5\n",
      "The power of x is:  125\n",
      "The value of x is:  1\n",
      "The value of x is:  7\n",
      "The value of x is:  6\n",
      "The value of x is:  0\n",
      "The value of x is:  40\n"
     ]
    }
   ],
   "source": [
    "# using the addition and equal to assignment operator\n",
    "x = 5\n",
    "x += 3\n",
    "print(\"the value of x after addition is: \", x)\n",
    "# using the subtraction and equal to assignment operator\n",
    "x = 5\n",
    "x -= 3\n",
    "print(\"The value of x after subtraction is: \", x)\n",
    "# using the product and equal to assignment operator\n",
    "x = 5\n",
    "x *= 3\n",
    "print(\"The value of x after product is: \", x)\n",
    "# using the division and equal to assignment operator\n",
    "x = 5\n",
    "x /= 3\n",
    "print(\"The value of x after division is: \", x)\n",
    "# using the modulus and equal to operator\n",
    "x = 5\n",
    "x %= 3\n",
    "print(\"The remainder of x is: \", x)\n",
    "# using the integer division and equal to assignment operator\n",
    "x = 5\n",
    "x // 3\n",
    "print(\"The Integer division of x is: \", x)\n",
    "# using the power and equal to assignment operator\n",
    "x = 5\n",
    "x **= 3\n",
    "print(\"The power of x is: \", x)\n",
    "# using logical AND operator\n",
    "x = 5\n",
    "x &= 3\n",
    "print(\"The value of x is: \", x)\n",
    "# using logical OR operator\n",
    "x = 5\n",
    "x |= 3\n",
    "print(\"The value of x is: \", x)\n",
    "x = 5\n",
    "x ^= 3\n",
    "print(\"The value of x is: \", x)\n",
    "x = 5\n",
    "x >>= 3\n",
    "print(\"The value of x is: \", x)\n",
    "x = 5\n",
    "x <<= 3\n",
    "print(\"The value of x is: \", x)\n"
   ]
  },
  {
   "cell_type": "markdown",
   "metadata": {},
   "source": [
    "# Program 3: Write a program to perform comparison operators "
   ]
  },
  {
   "cell_type": "code",
   "execution_count": 11,
   "metadata": {},
   "outputs": [
    {
     "name": "stdout",
     "output_type": "stream",
     "text": [
      "20\n",
      "15\n"
     ]
    }
   ],
   "source": [
    "x = 20\n",
    "y = 15\n",
    "print(x)\n",
    "print(y)"
   ]
  },
  {
   "cell_type": "code",
   "execution_count": 12,
   "metadata": {},
   "outputs": [
    {
     "name": "stdout",
     "output_type": "stream",
     "text": [
      "x is equal to y:  False\n"
     ]
    }
   ],
   "source": [
    "# using compairing operator\n",
    "print(\"x is equal to y: \", x==y)"
   ]
  },
  {
   "cell_type": "code",
   "execution_count": 13,
   "metadata": {},
   "outputs": [
    {
     "name": "stdout",
     "output_type": "stream",
     "text": [
      "x is not equal to y:  True\n"
     ]
    }
   ],
   "source": [
    "# using not equal to operator\n",
    "print(\"x is not equal to y: \", x!=y)"
   ]
  },
  {
   "cell_type": "code",
   "execution_count": 14,
   "metadata": {},
   "outputs": [
    {
     "name": "stdout",
     "output_type": "stream",
     "text": [
      "x is greater than y:  True\n"
     ]
    }
   ],
   "source": [
    "# using greater than operator\n",
    "print(\"x is greater than y: \", x>y)"
   ]
  },
  {
   "cell_type": "code",
   "execution_count": 15,
   "metadata": {},
   "outputs": [
    {
     "name": "stdout",
     "output_type": "stream",
     "text": [
      "x is less than y :  False\n"
     ]
    }
   ],
   "source": [
    "# using less than operator\n",
    "print(\"x is less than y : \", x<y)"
   ]
  },
  {
   "cell_type": "code",
   "execution_count": 16,
   "metadata": {},
   "outputs": [
    {
     "name": "stdout",
     "output_type": "stream",
     "text": [
      "x is greater than or equal to y:  True\n"
     ]
    }
   ],
   "source": [
    "# using greater than and equal to operator\n",
    "print(\"x is greater than or equal to y: \", x>=y)"
   ]
  },
  {
   "cell_type": "code",
   "execution_count": 17,
   "metadata": {},
   "outputs": [
    {
     "name": "stdout",
     "output_type": "stream",
     "text": [
      "x is less thamn or equal to y:  False\n"
     ]
    }
   ],
   "source": [
    "# using less tham or equal to operator\n",
    "print(\"x is less thamn or equal to y: \", x<=y)"
   ]
  },
  {
   "cell_type": "markdown",
   "metadata": {},
   "source": [
    "# Program 4: Write a program to perform logical operators"
   ]
  },
  {
   "cell_type": "code",
   "execution_count": 18,
   "metadata": {},
   "outputs": [
    {
     "name": "stdout",
     "output_type": "stream",
     "text": [
      "x is greater than 13 and less than 20:  True\n"
     ]
    }
   ],
   "source": [
    "# using AND operator\n",
    "x = 15\n",
    "print(\"x is greater than 13 and less than 20: \", x>13 and x<20)"
   ]
  },
  {
   "cell_type": "code",
   "execution_count": 19,
   "metadata": {},
   "outputs": [
    {
     "name": "stdout",
     "output_type": "stream",
     "text": [
      "x is greater than 23 or less than 24:  True\n"
     ]
    }
   ],
   "source": [
    "# using OR operator\n",
    "x = 25\n",
    "print(\"x is greater than 23 or less than 24: \", x>23 or x<24)"
   ]
  },
  {
   "cell_type": "code",
   "execution_count": 20,
   "metadata": {},
   "outputs": [
    {
     "name": "stdout",
     "output_type": "stream",
     "text": [
      "False\n"
     ]
    }
   ],
   "source": [
    "# using NOT operator\n",
    "x = 35\n",
    "print(not(\"x is greater than 33 and less than 40: \", x>33 and x<40))"
   ]
  },
  {
   "cell_type": "markdown",
   "metadata": {},
   "source": [
    "# Program 5: Write a program to perform identity operator"
   ]
  },
  {
   "cell_type": "code",
   "execution_count": 21,
   "metadata": {},
   "outputs": [
    {
     "name": "stdout",
     "output_type": "stream",
     "text": [
      "True\n",
      "False\n",
      "True\n"
     ]
    }
   ],
   "source": [
    "# using is operator\n",
    "x = [\"ahmed\",\"bashir\"]\n",
    "y = [\"ahmed\",\"bashir\"]\n",
    "z = x\n",
    "print(x is z)\n",
    "print(x is y)\n",
    "print(x==y)"
   ]
  },
  {
   "cell_type": "markdown",
   "metadata": {},
   "source": [
    "# Program 6: Performing is not identity operation"
   ]
  },
  {
   "cell_type": "code",
   "execution_count": 22,
   "metadata": {},
   "outputs": [
    {
     "ename": "SyntaxError",
     "evalue": "invalid syntax (<ipython-input-22-d1689e90b6df>, line 7)",
     "output_type": "error",
     "traceback": [
      "\u001b[1;36m  File \u001b[1;32m\"<ipython-input-22-d1689e90b6df>\"\u001b[1;36m, line \u001b[1;32m7\u001b[0m\n\u001b[1;33m    print(x<>y)\u001b[0m\n\u001b[1;37m            ^\u001b[0m\n\u001b[1;31mSyntaxError\u001b[0m\u001b[1;31m:\u001b[0m invalid syntax\n"
     ]
    }
   ],
   "source": [
    "# using is not operator\n",
    "x = [\"ahmed\", \"bashir\"]\n",
    "y = [\"ahmed\", \"bashir\"]\n",
    "z = x\n",
    "print(x is not z)\n",
    "print(x is not y)\n",
    "print(x<>y)"
   ]
  },
  {
   "cell_type": "markdown",
   "metadata": {},
   "source": [
    "# Program 7: Performing 'in' membership operation"
   ]
  },
  {
   "cell_type": "code",
   "execution_count": 23,
   "metadata": {},
   "outputs": [
    {
     "name": "stdout",
     "output_type": "stream",
     "text": [
      "True\n"
     ]
    }
   ],
   "source": [
    "# using in operator\n",
    "x = [\"wasim\", \"lubaid\", \"shahroz\", \"usman\", \"faisal\", \"farhan\"]\n",
    "print(\"faisal\" in x)"
   ]
  },
  {
   "cell_type": "markdown",
   "metadata": {},
   "source": [
    "# Program 8: Performing 'not in' membership operation"
   ]
  },
  {
   "cell_type": "code",
   "execution_count": 24,
   "metadata": {},
   "outputs": [
    {
     "name": "stdout",
     "output_type": "stream",
     "text": [
      "True\n"
     ]
    }
   ],
   "source": [
    "# using not in operator\n",
    "x = [\"wasim\", \"lubaid\", \"shahroz\", \"usman\", \"faisal\", \"farhan\"]\n",
    "print(\"parkash\" not in x)"
   ]
  },
  {
   "cell_type": "markdown",
   "metadata": {},
   "source": [
    "# Program 9:"
   ]
  },
  {
   "cell_type": "code",
   "execution_count": 25,
   "metadata": {},
   "outputs": [],
   "source": [
    "# using physical quantities initial velocity, final velocity, angle in radians, gravity, height, slingshot, etc"
   ]
  },
  {
   "cell_type": "code",
   "execution_count": 26,
   "metadata": {},
   "outputs": [
    {
     "name": "stdout",
     "output_type": "stream",
     "text": [
      "give me a velocity to fire at (in m/s): 20\n",
      "give me an angle to fire at: 45\n",
      "give me how far away you are from the structure: 15\n",
      "give me the height of structure (in meters): 10\n",
      "9.71313543609889\n"
     ]
    }
   ],
   "source": [
    "import math\n",
    "# user inputs\n",
    "velocity = float(input('give me a velocity to fire at (in m/s): '))\n",
    "angle = float(input('give me an angle to fire at: '))\n",
    "distance = float(input('give me how far away you are from the structure: '))\n",
    "height = float(input('give me the height of structure (in meters): '))\n",
    "# height of slingshot in meters\n",
    "slingshot = 5\n",
    "# earth gravity\n",
    "gravity = 9.8\n",
    "# converting angles to radians\n",
    "angleRad = math.radians(angle)\n",
    "# computing our x and y coordinate\n",
    "x = math.cos(angleRad)\n",
    "y = math.sin(angleRad)\n",
    "# calculations\n",
    "time = distance/(velocity*x)\n",
    "vx = x\n",
    "vy = y + (-9.8*time)\n",
    "final_Velocity = math.sqrt((vx**2) + (vy**2))\n",
    "print(final_Velocity)"
   ]
  },
  {
   "cell_type": "markdown",
   "metadata": {},
   "source": [
    "# Programming Exercise: Solving Real World problems in Physics"
   ]
  },
  {
   "cell_type": "markdown",
   "metadata": {},
   "source": [
    "# Question 1"
   ]
  },
  {
   "cell_type": "code",
   "execution_count": 44,
   "metadata": {},
   "outputs": [
    {
     "name": "stdout",
     "output_type": "stream",
     "text": [
      "The linear velocity of a point is:  20 m/s\n"
     ]
    }
   ],
   "source": [
    "# using the formula of linear velocity\n",
    "r = 2\n",
    "w = 10\n",
    "v = r*w\n",
    "print(\"The linear velocity of a point is: \", v, \"m/s\")"
   ]
  },
  {
   "cell_type": "code",
   "execution_count": 45,
   "metadata": {},
   "outputs": [
    {
     "name": "stdout",
     "output_type": "stream",
     "text": [
      "The magnitude of linear velocity of a point is:  5.0 m/s\n"
     ]
    }
   ],
   "source": [
    "# using the formula of linear velocity(a)\n",
    "r = 0.5\n",
    "w = 10\n",
    "v = r*w\n",
    "print(\"The magnitude of linear velocity of a point is: \", v, \"m/s\")"
   ]
  },
  {
   "cell_type": "code",
   "execution_count": 46,
   "metadata": {},
   "outputs": [
    {
     "name": "stdout",
     "output_type": "stream",
     "text": [
      "The magnitude of linear velocity of a point is:  10 m/s\n"
     ]
    }
   ],
   "source": [
    "# using the formula of linear velocity(b)\n",
    "r = 1\n",
    "w = 10\n",
    "v = r*w\n",
    "print(\"The magnitude of linear velocity of a point is: \", v, \"m/s\")"
   ]
  },
  {
   "cell_type": "code",
   "execution_count": 47,
   "metadata": {},
   "outputs": [
    {
     "name": "stdout",
     "output_type": "stream",
     "text": [
      "The magnitude of linear velocity of a point is:  30 m/s\n"
     ]
    }
   ],
   "source": [
    "# using the formula of linear velocity(c)\n",
    "r = 3\n",
    "w = 10\n",
    "v = r*w\n",
    "print(\"The magnitude of linear velocity of a point is: \", v, \"m/s\")"
   ]
  },
  {
   "cell_type": "markdown",
   "metadata": {},
   "source": [
    "# Question 2"
   ]
  },
  {
   "cell_type": "code",
   "execution_count": 48,
   "metadata": {},
   "outputs": [
    {
     "name": "stdout",
     "output_type": "stream",
     "text": [
      "The magnitude of linear velocity is:  2616.5 m/s\n"
     ]
    }
   ],
   "source": [
    "# using the formula to determine the magnitude of libnear velocity(a)\n",
    "r = 5\n",
    "w = 523.3\n",
    "v = r*w\n",
    "print(\"The magnitude of linear velocity is: \", v, \"m/s\")"
   ]
  },
  {
   "cell_type": "code",
   "execution_count": 49,
   "metadata": {},
   "outputs": [
    {
     "name": "stdout",
     "output_type": "stream",
     "text": [
      "The magnitude of linear velocity is:  5233.0 m/s\n"
     ]
    }
   ],
   "source": [
    "# using the formula to determine the magnitude of libnear velocity(b)\n",
    "r = 10\n",
    "w = 523.3\n",
    "v = r*w\n",
    "print(\"The magnitude of linear velocity is: \", v, \"m/s\")"
   ]
  },
  {
   "cell_type": "markdown",
   "metadata": {},
   "source": [
    "# Question 3"
   ]
  },
  {
   "cell_type": "code",
   "execution_count": 50,
   "metadata": {},
   "outputs": [
    {
     "name": "stdout",
     "output_type": "stream",
     "text": [
      "The angular velocity is:  33.333333333333336 rad/sec\n"
     ]
    }
   ],
   "source": [
    "# using the formula to find the magnitude of angular velocity\n",
    "r = 0.3\n",
    "v = 10\n",
    "w = v/r\n",
    "print(\"The angular velocity is: \", w, \"rad/sec\")"
   ]
  },
  {
   "cell_type": "markdown",
   "metadata": {},
   "source": [
    "# Question 4"
   ]
  },
  {
   "cell_type": "code",
   "execution_count": 51,
   "metadata": {},
   "outputs": [
    {
     "name": "stdout",
     "output_type": "stream",
     "text": [
      "The angular speed is:  40.0 rad/sec\n"
     ]
    }
   ],
   "source": [
    "# using the formula to determine the angular speed\n",
    "r = 0.25\n",
    "v = 10\n",
    "w = v/r\n",
    "print(\"The angular speed is: \", w, \"rad/sec\")"
   ]
  },
  {
   "cell_type": "markdown",
   "metadata": {},
   "source": [
    "# Question 5"
   ]
  },
  {
   "cell_type": "code",
   "execution_count": 52,
   "metadata": {},
   "outputs": [
    {
     "name": "stdout",
     "output_type": "stream",
     "text": [
      "The linear velocity is:  2.5120000000000005 m/s\n"
     ]
    }
   ],
   "source": [
    "# using the formula to find the distance of car traveled\n",
    "r = 0.2\n",
    "w = 12.56\n",
    "v = r*w\n",
    "print(\"The linear velocity is: \", v, \"m/s\")\n"
   ]
  },
  {
   "cell_type": "code",
   "execution_count": 53,
   "metadata": {},
   "outputs": [
    {
     "name": "stdout",
     "output_type": "stream",
     "text": [
      "The distance covered is:  25.120000000000005 m\n"
     ]
    }
   ],
   "source": [
    "t = 10 \n",
    "d = v*t\n",
    "print(\"The distance covered is: \", d, \"m\")"
   ]
  },
  {
   "cell_type": "code",
   "execution_count": null,
   "metadata": {},
   "outputs": [],
   "source": []
  }
 ],
 "metadata": {
  "kernelspec": {
   "display_name": "Python 3",
   "language": "python",
   "name": "python3"
  },
  "language_info": {
   "codemirror_mode": {
    "name": "ipython",
    "version": 3
   },
   "file_extension": ".py",
   "mimetype": "text/x-python",
   "name": "python",
   "nbconvert_exporter": "python",
   "pygments_lexer": "ipython3",
   "version": "3.6.5"
  }
 },
 "nbformat": 4,
 "nbformat_minor": 2
}
