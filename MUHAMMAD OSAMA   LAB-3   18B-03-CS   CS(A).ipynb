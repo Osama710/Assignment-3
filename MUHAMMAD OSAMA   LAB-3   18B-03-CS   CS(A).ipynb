{
 "cells": [
  {
   "cell_type": "markdown",
   "metadata": {},
   "source": [
    "# Programming Exercise:"
   ]
  },
  {
   "cell_type": "markdown",
   "metadata": {},
   "source": [
    "# Question 6"
   ]
  },
  {
   "cell_type": "code",
   "execution_count": 1,
   "metadata": {},
   "outputs": [
    {
     "name": "stdout",
     "output_type": "stream",
     "text": [
      "the car travels with velocity:  70 miles/hour\n",
      "the distance covered is:  140 miles\n"
     ]
    }
   ],
   "source": [
    "# using formula to find the distance of a car traveled from a point\n",
    "u = 50\n",
    "a = 10\n",
    "t = 2\n",
    "v = u + a*t\n",
    "print(\"the car travels with velocity: \", v, \"miles/hour\")\n",
    "s = v*t\n",
    "print(\"the distance covered is: \", s, \"miles\")"
   ]
  },
  {
   "cell_type": "markdown",
   "metadata": {},
   "source": [
    "# Question 7"
   ]
  },
  {
   "cell_type": "code",
   "execution_count": 2,
   "metadata": {},
   "outputs": [
    {
     "name": "stdout",
     "output_type": "stream",
     "text": [
      "the stone will hit the ground with velocity:  80.0 ft/s\n"
     ]
    }
   ],
   "source": [
    "# using formula to find the velocity of a stone when it hit vhe ground\n",
    "import math\n",
    "s = 100\n",
    "a = 32\n",
    "u = 0\n",
    "v = math.sqrt(2*a*s)\n",
    "print(\"the stone will hit the ground with velocity: \", v, \"ft/s\")"
   ]
  },
  {
   "cell_type": "code",
   "execution_count": null,
   "metadata": {},
   "outputs": [],
   "source": []
  }
 ],
 "metadata": {
  "kernelspec": {
   "display_name": "Python 3",
   "language": "python",
   "name": "python3"
  },
  "language_info": {
   "codemirror_mode": {
    "name": "ipython",
    "version": 3
   },
   "file_extension": ".py",
   "mimetype": "text/x-python",
   "name": "python",
   "nbconvert_exporter": "python",
   "pygments_lexer": "ipython3",
   "version": "3.7.0"
  }
 },
 "nbformat": 4,
 "nbformat_minor": 2
}
